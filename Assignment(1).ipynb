{
 "cells": [
  {
   "cell_type": "markdown",
   "id": "5ac91122",
   "metadata": {},
   "source": []
  },
  {
   "cell_type": "code",
   "execution_count": 1,
   "id": "cdb02f82",
   "metadata": {},
   "outputs": [
    {
     "name": "stdout",
     "output_type": "stream",
     "text": [
      "enter the 1st no.7\n",
      "Enter the 2nd no.8\n",
      "Before swap the values are  7 8\n",
      "After swap the values are  8 7\n"
     ]
    }
   ],
   "source": [
    "a=int(input(\"enter the 1st no.\"))\n",
    "b=int(input(\"Enter the 2nd no.\"))\n",
    "print(\"Before swap the values are \", a, b)\n",
    "a=a+b\n",
    "b=a-b\n",
    "a=a-b\n",
    "print(\"After swap the values are \", a, b)\n"
   ]
  },
  {
   "cell_type": "code",
   "execution_count": 2,
   "id": "faa50c16",
   "metadata": {},
   "outputs": [
    {
     "name": "stdout",
     "output_type": "stream",
     "text": [
      "Enter the width:7\n",
      "Enter the heigh:4\n",
      "The area of rectangular is  28\n"
     ]
    }
   ],
   "source": [
    "w=int(input(\"Enter the width:\"))\n",
    "h=int(input(\"Enter the heigh:\"))\n",
    "a=w*h\n",
    "print(\"The area of rectangular is \" ,a)\n"
   ]
  },
  {
   "cell_type": "code",
   "execution_count": 3,
   "id": "db4d1ede",
   "metadata": {},
   "outputs": [
    {
     "name": "stdout",
     "output_type": "stream",
     "text": [
      "Temp in celcius: 34\n",
      "The temp in fehrenheit:  93.2\n"
     ]
    }
   ],
   "source": [
    "cel=float(input(\"Temp in celcius: \"))\n",
    "fer=((cel*1.8)+32)\n",
    "print(\"The temp in fehrenheit: \",fer)"
   ]
  },
  {
   "cell_type": "code",
   "execution_count": 2,
   "id": "411b64c7",
   "metadata": {},
   "outputs": [
    {
     "name": "stdout",
     "output_type": "stream",
     "text": [
      "Enter the string: soumili\n",
      "The length of the string is 7\n"
     ]
    }
   ],
   "source": [
    "l=(input(\"Enter the string input: \"))\n",
    "length=len(l)\n",
    "print(\"The length of the string is\", length)"
   ]
  },
  {
   "cell_type": "code",
   "execution_count": 8,
   "id": "d1571992",
   "metadata": {},
   "outputs": [
    {
     "name": "stdout",
     "output_type": "stream",
     "text": [
      "Enter string:soumili\n",
      "Number of vowels are:\n",
      "4\n"
     ]
    }
   ],
   "source": [
    "string=(input(\"Enter string input:\"))\n",
    "vowels=0\n",
    "for i in string:\n",
    "      if(i=='a' or i=='e' or i=='i' or i=='o' or i=='u' or i=='A' or i=='E' or i=='I' or i=='O' or i=='U'):\n",
    "            vowels=vowels+1\n",
    "print(\"Number of vowels are:\")\n",
    "print(vowels)"
   ]
  },
  {
   "cell_type": "code",
   "execution_count": 9,
   "id": "3ec06cb3",
   "metadata": {},
   "outputs": [
    {
     "name": "stdout",
     "output_type": "stream",
     "text": [
      "Enter the string input: soumili\n",
      "After Reverse of the given string is: ilimuos\n"
     ]
    }
   ],
   "source": [
    "string=input(\"Enter the string input: \")\n",
    "print(\"After Reverse of the given string is:\",string[::-1])"
   ]
  },
  {
   "cell_type": "code",
   "execution_count": 11,
   "id": "fdba80cf",
   "metadata": {},
   "outputs": [
    {
     "name": "stdout",
     "output_type": "stream",
     "text": [
      "Enter the string value: eye\n",
      "This is a palindrome. eye\n"
     ]
    }
   ],
   "source": [
    "string=input(\"Enter the string value: \")\n",
    "string_rev=string[::-1]\n",
    "if (string == string_rev):\n",
    "    print(\"This is a palindrome.\",string)\n",
    "else:\n",
    "    print(\"This is not a palindrome.\",string)"
   ]
  },
  {
   "cell_type": "code",
   "execution_count": 12,
   "id": "66ff0823",
   "metadata": {},
   "outputs": [
    {
     "name": "stdout",
     "output_type": "stream",
     "text": [
      "Enter the string input: my name is soumili guha\n",
      "After removing spaces , the output is:  mynameissoumiliguha\n"
     ]
    }
   ],
   "source": [
    "string=input(\"Enter the string input: \")\n",
    "print(\"After removing spaces , the output is: \",string.replace(\" \",\"\"))"
   ]
  },
  {
   "cell_type": "code",
   "execution_count": null,
   "id": "e2ca0e8e",
   "metadata": {},
   "outputs": [],
   "source": []
  }
 ],
 "metadata": {
  "kernelspec": {
   "display_name": "Python 3 (ipykernel)",
   "language": "python",
   "name": "python3"
  },
  "language_info": {
   "codemirror_mode": {
    "name": "ipython",
    "version": 3
   },
   "file_extension": ".py",
   "mimetype": "text/x-python",
   "name": "python",
   "nbconvert_exporter": "python",
   "pygments_lexer": "ipython3",
   "version": "3.11.4"
  }
 },
 "nbformat": 4,
 "nbformat_minor": 5
}
