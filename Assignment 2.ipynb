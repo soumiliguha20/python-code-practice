{
 "cells": [
  {
   "cell_type": "code",
   "execution_count": 11,
   "id": "7cb556e7",
   "metadata": {},
   "outputs": [
    {
     "name": "stdout",
     "output_type": "stream",
     "text": [
      "Enter a number: -7\n",
      "Negative number\n"
     ]
    }
   ],
   "source": [
    "# Write a Python program that checks if a given number is positive, negative, or zero.\n",
    "num = float(input(\"Enter a number: \"))\n",
    "if (num > 0):\n",
    "   print(\"It is a Positive number\")\n",
    "elif (num == 0):\n",
    "   print(\"Zero\")\n",
    "else:\n",
    "   print(\"It is a Negative number\")\n"
   ]
  },
  {
   "cell_type": "code",
   "execution_count": 13,
   "id": "dc7dd1b3",
   "metadata": {},
   "outputs": [
    {
     "name": "stdout",
     "output_type": "stream",
     "text": [
      "Enter your age: 12\n",
      "You're not Eligible to vote\n"
     ]
    }
   ],
   "source": [
    "# Create a program to determine if a person is eligible to vote based on their age.\n",
    "age = float(input(\"Enter your age: \"))\n",
    "if (age>= 18):\n",
    "   print(\"You're Eligible to vote\")\n",
    "else:\n",
    "   print(\"You're not Eligible to vote\")"
   ]
  },
  {
   "cell_type": "markdown",
   "id": "314bf157",
   "metadata": {},
   "source": []
  },
  {
   "cell_type": "code",
   "execution_count": 17,
   "id": "88d9fbbc",
   "metadata": {},
   "outputs": [
    {
     "name": "stdout",
     "output_type": "stream",
     "text": [
      "Enter the 1st num: 3\n",
      "Enter the 2nd num: 4\n",
      "B is greater\n"
     ]
    }
   ],
   "source": [
    "# Write a program to find the maximum of two given numbers using conditional statements\n",
    "a=int(input(\"Enter the 1st num: \"))\n",
    "b=int(input(\"Enter the 2nd num: \"))\n",
    "if(a > b):\n",
    "    print(\"A is greater\")\n",
    "elif(a < b):\n",
    "    print(\"B is greater\")\n",
    "else: \n",
    "    print(\"Both are equal\")"
   ]
  },
  {
   "cell_type": "code",
   "execution_count": 28,
   "id": "97690d73",
   "metadata": {},
   "outputs": [
    {
     "name": "stdout",
     "output_type": "stream",
     "text": [
      "Enter the marks: 52\n",
      "B\n"
     ]
    }
   ],
   "source": [
    "# Develop a program that calculates the grade of a student based on their exam score.\n",
    "marks=int(input(\"Enter the marks: \"))\n",
    "if(100>marks>80):\n",
    "    print(\"A+\")\n",
    "elif(80>marks>70):\n",
    "    print(\"A\")\n",
    "elif(60>marks>50):\n",
    "    print(\"B\")   \n",
    "elif(50>marks>40):\n",
    "    print(\"C\") \n",
    "elif(40>marks>25):\n",
    "    print(\"D\")     \n",
    "else:\n",
    "    print(\"Fail\")\n",
    "    "
   ]
  },
  {
   "cell_type": "code",
   "execution_count": 31,
   "id": "84999571",
   "metadata": {},
   "outputs": [
    {
     "name": "stdout",
     "output_type": "stream",
     "text": [
      "Please enter year2023\n",
      "This is Not the Leap Year 2023\n"
     ]
    }
   ],
   "source": [
    "# Create a program that checks if a year is a leap year or not.\n",
    "year = int(input(\"Please enter year\"))\n",
    " \n",
    "if (( year%400 == 0) | (( year%4 == 0 ) & ( year%100 != 0))):\n",
    "    print(\"This is a Leap Year\" , year)\n",
    "else:\n",
    "    print(\"This is Not the Leap Year\" , year)"
   ]
  },
  {
   "cell_type": "code",
   "execution_count": 36,
   "id": "b65402b8",
   "metadata": {},
   "outputs": [
    {
     "name": "stdout",
     "output_type": "stream",
     "text": [
      "Enter the 1st num: 9\n",
      "Enter the 2nd num: 7\n",
      "Enter the 3rd num: 2\n",
      "A is largest\n"
     ]
    }
   ],
   "source": [
    "#Build a program that determines the largest of three given numbers\n",
    "a=int(input(\"Enter the 1st num: \"))\n",
    "b=int(input(\"Enter the 2nd num: \"))\n",
    "c=int(input(\"Enter the 3rd num: \"))\n",
    "if(c<a>b):\n",
    "    print(\"A is largest\")\n",
    "elif(c<b>a):\n",
    "    print(\"B is largest\")\n",
    "else:\n",
    "    print(\"C is largest\")\n",
    "    "
   ]
  },
  {
   "cell_type": "code",
   "execution_count": 50,
   "id": "1cd39064",
   "metadata": {},
   "outputs": [
    {
     "name": "stdout",
     "output_type": "stream",
     "text": [
      "Enter the character: T\n",
      "It is a consonant.\n"
     ]
    }
   ],
   "source": [
    "#Develop a program that checks whether a character is a vowel or a consonant.\n",
    "c=str(input(\"Enter the character: \"))\n",
    "if (c == 'a' or c == 'e'  or c == 'i' or c == 'o' or c == 'u' or c == 'A' or c == 'E' or c == 'I' or c == 'O' or c == 'U'):\n",
    "    print(\"It is a vowel.\")\n",
    "else:    \n",
    "     print(\"It is a consonant.\" )"
   ]
  },
  {
   "cell_type": "code",
   "execution_count": null,
   "id": "b6315c26",
   "metadata": {},
   "outputs": [],
   "source": [
    "# Create a program to calculate the total cost of a shopping cart based on discounts\n"
   ]
  },
  {
   "cell_type": "code",
   "execution_count": 51,
   "id": "389b1bbd",
   "metadata": {},
   "outputs": [
    {
     "name": "stdout",
     "output_type": "stream",
     "text": [
      "enter the num. :8\n",
      "Even No.\n"
     ]
    }
   ],
   "source": [
    "# Write a program that checks if a given number is even or odd\n",
    "a=int(input(\"enter the num. :\")) \n",
    "if a%2==0 :\n",
    "    print(\"Even No.\")\n",
    "else:\n",
    "  print(\"Odd no.\")"
   ]
  },
  {
   "cell_type": "code",
   "execution_count": 8,
   "id": "a961923a",
   "metadata": {},
   "outputs": [
    {
     "name": "stdout",
     "output_type": "stream",
     "text": [
      "Enter the length of side a : 1\n",
      "Enter the length of side b : 2\n",
      "Enter the length of side c : 1\n",
      "Isosceles triangle\n"
     ]
    }
   ],
   "source": [
    "# Write a program to classify a triangle based on its sides' lengths.\n",
    "\n",
    "# we assume the triangle has 3 sides are a, b,c.\n",
    "\n",
    "a=int(input(\"Enter the length of side a : \"))\n",
    "b=int(input(\"Enter the length of side b : \"))\n",
    "c=int(input(\"Enter the length of side c : \"))\n",
    "\n",
    "if(a==b==c):\n",
    "    print(\"Equilateral triangle\")\n",
    "elif(a==b or a==c or b==c):   \n",
    "    print(\"Isosceles triangle\")\n",
    "else: \n",
    "    print(\"Scalene triangle\")"
   ]
  },
  {
   "cell_type": "code",
   "execution_count": 11,
   "id": "1001ce89",
   "metadata": {},
   "outputs": [
    {
     "name": "stdout",
     "output_type": "stream",
     "text": [
      "Enter the day number: 9\n",
      "Please enter between (1-7)\n"
     ]
    }
   ],
   "source": [
    "# Create a program that determines the day of the week based on the day number (1-7).\n",
    "day=int(input(\"Enter the day number: \"))\n",
    "if(day==1):\n",
    "    print(\"Monday\")\n",
    "elif(day==2):\n",
    "    print(\"Tuesday\")\n",
    "elif(day==3):\n",
    "    print(\"Wednesday\")  \n",
    "elif(day==4):\n",
    "    print(\"Thursday\")\n",
    "elif(day==5):\n",
    "    print(\"Friday\")  \n",
    "elif(day==6):\n",
    "    print(\"Saturday\")\n",
    "elif(day==7):\n",
    "    print(\"Sunday\")   \n",
    "else: \n",
    "    print(\"Please enter between (1-7)\")\n",
    "    "
   ]
  },
  {
   "cell_type": "code",
   "execution_count": 27,
   "id": "2ecfc37d",
   "metadata": {},
   "outputs": [
    {
     "name": "stdout",
     "output_type": "stream",
     "text": [
      "Enter the number: 5\n",
      "Factorial of the 5  is 120\n"
     ]
    }
   ],
   "source": [
    "# Develop a program that calculates the factorial of a given number using recursion.\n",
    "def rec_factorial(n):\n",
    "    if(n==1):\n",
    "        return n\n",
    "    else:\n",
    "      return n*rec_factorial(n-1)\n",
    "num=int(input(\"Enter the number: \"))\n",
    "if(num < 0 ):\n",
    "    print(\"Factorial does not exist for negative numbers\")\n",
    "elif(num == 0):\n",
    "    print(\"Factorial is 1\")\n",
    "else: \n",
    "    print(\"Factorial of the\", num ,\" is\", rec_factorial(num))"
   ]
  },
  {
   "cell_type": "code",
   "execution_count": 28,
   "id": "954a5577",
   "metadata": {},
   "outputs": [
    {
     "name": "stdout",
     "output_type": "stream",
     "text": [
      "Enter the string value: madam\n",
      "This is a palindrome. madam\n"
     ]
    }
   ],
   "source": [
    " # Build a program that checks if a given string is a palindrome or not.\n",
    "string=input(\"Enter the string value: \")\n",
    "string_rev=string[::-1]\n",
    "if (string == string_rev):\n",
    "    print(\"This is a palindrome.\",string)\n",
    "else:\n",
    "    print(\"This is not a palindrome.\",string)\n"
   ]
  },
  {
   "cell_type": "code",
   "execution_count": 29,
   "id": "53f41ccf",
   "metadata": {},
   "outputs": [
    {
     "name": "stdout",
     "output_type": "stream",
     "text": [
      "Temp in celcius: 34\n",
      "The temp in fehrenheit:  93.2\n"
     ]
    }
   ],
   "source": [
    "# Develop a program that converts a given temperature from Celsius to Fahrenheit.\n",
    "cel=float(input(\"Temp in celcius: \"))\n",
    "fer=((cel*1.8)+32)\n",
    "print(\"The temp in fehrenheit: \",fer)"
   ]
  },
  {
   "cell_type": "code",
   "execution_count": 31,
   "id": "d301cad6",
   "metadata": {},
   "outputs": [
    {
     "name": "stdout",
     "output_type": "stream",
     "text": [
      "Enter the 1st num: 49\n",
      "Enter the 2nd num: 7\n",
      "Sum is 56\n",
      "Sub is 42\n",
      "Mul is 343\n",
      "Div is 7\n"
     ]
    }
   ],
   "source": [
    "# Create a program that simulates a basic calculator for addition, subtraction, multiplication, and division.\n",
    "a=int(input(\"Enter the 1st num: \"))\n",
    "b=int(input(\"Enter the 2nd num: \"))\n",
    "add = (a+b)\n",
    "sub = (a-b)\n",
    "mul = (a*b)\n",
    "div = (a//b)\n",
    "print(\"Sum is\", add)\n",
    "print(\"Sub is\", sub)\n",
    "print(\"Mul is\", mul)\n",
    "print(\"Div is\", div)\n"
   ]
  },
  {
   "cell_type": "code",
   "execution_count": 24,
   "id": "3dbaa5c5",
   "metadata": {},
   "outputs": [
    {
     "ename": "IndentationError",
     "evalue": "unindent does not match any outer indentation level (<tokenize>, line 32)",
     "output_type": "error",
     "traceback": [
      "\u001b[1;36m  File \u001b[1;32m<tokenize>:32\u001b[1;36m\u001b[0m\n\u001b[1;33m    else:\u001b[0m\n\u001b[1;37m    ^\u001b[0m\n\u001b[1;31mIndentationError\u001b[0m\u001b[1;31m:\u001b[0m unindent does not match any outer indentation level\n"
     ]
    }
   ],
   "source": [
    "# Create a program that simulates a basic ATM transaction menu.\n",
    "print(\"Welcome to State bank of India\")\n",
    "p=int(input(\"Enter your 4 digit pin number: \"))\n",
    "m = 25000\n",
    "if (p == 1234):\n",
    " print(\"1-Withdraw\")\n",
    " print(\"2-Balance Enquiry\")\n",
    " print(\"3-Fast Cash\")\n",
    " c = int(input(\"Please choose transactions: \"))\n",
    "if (c == 1):\n",
    " w=int(input(\"Enter withdraw amount: \"))\n",
    " if (w < m and w%100 == 0): \n",
    "       print(\"Please take your amount:\", w)\n",
    " else:\n",
    "       print(\"Invalid cash\")\n",
    "elif (c==2):\n",
    " print(\"Your available amount : \",m)\n",
    "elif (c == 3):\n",
    " print(\"1->5,000\")\n",
    " print(\"2->10,000\")\n",
    " print(\"3->15,000\")\n",
    " print(\"4->20,000\")\n",
    "f = int(input(\"Enter fast cash option: \"))\n",
    "if (f == 1 and 5000 < m):\n",
    "    print(\"please take cash 5000\")\n",
    "elif (f == 2 and 10000 < m):\n",
    "    print(\"please take cash 10000\")\n",
    "elif (f == 3 and 15000 < m):\n",
    "    print(\"please take cash 15000\")\n",
    "elif (f == 4 and 20000 < m):\n",
    "    print(\"please take cash 20000\")\n",
    "else:\n",
    "    print(\"Invalid fast cash option\")\n",
    "else:\n",
    "    print(\"Wrong choice\")\n",
    "    \n",
    "else:\n",
    "    print(\"Wrong pin number\")\n"
   ]
  },
  {
   "cell_type": "code",
   "execution_count": 26,
   "id": "9ed423a0",
   "metadata": {},
   "outputs": [
    {
     "name": "stdout",
     "output_type": "stream",
     "text": [
      "Enter the number of elements to be inserted: 6\n",
      "Enter element: 78\n",
      "Enter element: 90\n",
      "Enter element: 67\n",
      "Enter element: 56\n",
      "Enter element: 45\n",
      "Enter element: 67\n",
      "Average of elements in the list 67.17\n"
     ]
    }
   ],
   "source": [
    "n=int(input(\"Enter the number of elements to be inserted: \"))\n",
    "a=[]\n",
    "for i in range(0,n):\n",
    "    elem=int(input(\"Enter element: \"))\n",
    "    a.append(elem)\n",
    "avg=sum(a)/n\n",
    "print(\"Average of elements in the list\",round(avg,2))"
   ]
  },
  {
   "cell_type": "code",
   "execution_count": null,
   "id": "4f299183",
   "metadata": {},
   "outputs": [],
   "source": []
  }
 ],
 "metadata": {
  "kernelspec": {
   "display_name": "Python 3 (ipykernel)",
   "language": "python",
   "name": "python3"
  },
  "language_info": {
   "codemirror_mode": {
    "name": "ipython",
    "version": 3
   },
   "file_extension": ".py",
   "mimetype": "text/x-python",
   "name": "python",
   "nbconvert_exporter": "python",
   "pygments_lexer": "ipython3",
   "version": "3.11.4"
  }
 },
 "nbformat": 4,
 "nbformat_minor": 5
}
